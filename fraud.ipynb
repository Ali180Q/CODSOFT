{
 "cells": [
  {
   "cell_type": "code",
   "execution_count": 2,
   "metadata": {},
   "outputs": [],
   "source": [
    "#import libraries \n",
    "import numpy as np\n",
    "import pandas as pd\n",
    "import matplotlib.pyplot as plt\n",
    "import seaborn as sns\n",
    "\n"
   ]
  },
  {
   "cell_type": "code",
   "execution_count": 3,
   "metadata": {},
   "outputs": [],
   "source": [
    "df=pd.read_csv('data.csv')"
   ]
  },
  {
   "cell_type": "code",
   "execution_count": 4,
   "metadata": {},
   "outputs": [
    {
     "data": {
      "text/plain": [
       "(1852394, 6)"
      ]
     },
     "execution_count": 4,
     "metadata": {},
     "output_type": "execute_result"
    }
   ],
   "source": [
    "df.shape"
   ]
  },
  {
   "cell_type": "code",
   "execution_count": 5,
   "metadata": {},
   "outputs": [
    {
     "data": {
      "text/html": [
       "<div>\n",
       "<style scoped>\n",
       "    .dataframe tbody tr th:only-of-type {\n",
       "        vertical-align: middle;\n",
       "    }\n",
       "\n",
       "    .dataframe tbody tr th {\n",
       "        vertical-align: top;\n",
       "    }\n",
       "\n",
       "    .dataframe thead th {\n",
       "        text-align: right;\n",
       "    }\n",
       "</style>\n",
       "<table border=\"1\" class=\"dataframe\">\n",
       "  <thead>\n",
       "    <tr style=\"text-align: right;\">\n",
       "      <th></th>\n",
       "      <th>Unnamed: 0</th>\n",
       "      <th>category</th>\n",
       "      <th>amt</th>\n",
       "      <th>gender</th>\n",
       "      <th>city_pop</th>\n",
       "      <th>is_fraud</th>\n",
       "    </tr>\n",
       "  </thead>\n",
       "  <tbody>\n",
       "    <tr>\n",
       "      <th>1852374</th>\n",
       "      <td>1296655</td>\n",
       "      <td>food_dining</td>\n",
       "      <td>78.40</td>\n",
       "      <td>F</td>\n",
       "      <td>263</td>\n",
       "      <td>0</td>\n",
       "    </tr>\n",
       "    <tr>\n",
       "      <th>1852375</th>\n",
       "      <td>1296656</td>\n",
       "      <td>misc_pos</td>\n",
       "      <td>5.48</td>\n",
       "      <td>M</td>\n",
       "      <td>687276</td>\n",
       "      <td>0</td>\n",
       "    </tr>\n",
       "    <tr>\n",
       "      <th>1852376</th>\n",
       "      <td>1296657</td>\n",
       "      <td>misc_net</td>\n",
       "      <td>264.22</td>\n",
       "      <td>F</td>\n",
       "      <td>217</td>\n",
       "      <td>0</td>\n",
       "    </tr>\n",
       "    <tr>\n",
       "      <th>1852377</th>\n",
       "      <td>1296658</td>\n",
       "      <td>food_dining</td>\n",
       "      <td>12.66</td>\n",
       "      <td>M</td>\n",
       "      <td>128715</td>\n",
       "      <td>0</td>\n",
       "    </tr>\n",
       "    <tr>\n",
       "      <th>1852378</th>\n",
       "      <td>1296659</td>\n",
       "      <td>shopping_pos</td>\n",
       "      <td>9.72</td>\n",
       "      <td>F</td>\n",
       "      <td>1523</td>\n",
       "      <td>0</td>\n",
       "    </tr>\n",
       "    <tr>\n",
       "      <th>1852379</th>\n",
       "      <td>1296660</td>\n",
       "      <td>kids_pets</td>\n",
       "      <td>49.93</td>\n",
       "      <td>M</td>\n",
       "      <td>229</td>\n",
       "      <td>0</td>\n",
       "    </tr>\n",
       "    <tr>\n",
       "      <th>1852380</th>\n",
       "      <td>1296661</td>\n",
       "      <td>home</td>\n",
       "      <td>77.83</td>\n",
       "      <td>M</td>\n",
       "      <td>1770</td>\n",
       "      <td>0</td>\n",
       "    </tr>\n",
       "    <tr>\n",
       "      <th>1852381</th>\n",
       "      <td>1296662</td>\n",
       "      <td>personal_care</td>\n",
       "      <td>157.69</td>\n",
       "      <td>F</td>\n",
       "      <td>4575</td>\n",
       "      <td>0</td>\n",
       "    </tr>\n",
       "    <tr>\n",
       "      <th>1852382</th>\n",
       "      <td>1296663</td>\n",
       "      <td>home</td>\n",
       "      <td>84.10</td>\n",
       "      <td>F</td>\n",
       "      <td>6703</td>\n",
       "      <td>0</td>\n",
       "    </tr>\n",
       "    <tr>\n",
       "      <th>1852383</th>\n",
       "      <td>1296664</td>\n",
       "      <td>entertainment</td>\n",
       "      <td>69.38</td>\n",
       "      <td>F</td>\n",
       "      <td>5895</td>\n",
       "      <td>0</td>\n",
       "    </tr>\n",
       "    <tr>\n",
       "      <th>1852384</th>\n",
       "      <td>1296665</td>\n",
       "      <td>home</td>\n",
       "      <td>72.17</td>\n",
       "      <td>M</td>\n",
       "      <td>95</td>\n",
       "      <td>0</td>\n",
       "    </tr>\n",
       "    <tr>\n",
       "      <th>1852385</th>\n",
       "      <td>1296666</td>\n",
       "      <td>health_fitness</td>\n",
       "      <td>7.30</td>\n",
       "      <td>F</td>\n",
       "      <td>2135</td>\n",
       "      <td>0</td>\n",
       "    </tr>\n",
       "    <tr>\n",
       "      <th>1852386</th>\n",
       "      <td>1296667</td>\n",
       "      <td>travel</td>\n",
       "      <td>19.71</td>\n",
       "      <td>M</td>\n",
       "      <td>33804</td>\n",
       "      <td>0</td>\n",
       "    </tr>\n",
       "    <tr>\n",
       "      <th>1852387</th>\n",
       "      <td>1296668</td>\n",
       "      <td>kids_pets</td>\n",
       "      <td>100.85</td>\n",
       "      <td>F</td>\n",
       "      <td>19685</td>\n",
       "      <td>0</td>\n",
       "    </tr>\n",
       "    <tr>\n",
       "      <th>1852388</th>\n",
       "      <td>1296669</td>\n",
       "      <td>misc_pos</td>\n",
       "      <td>37.38</td>\n",
       "      <td>F</td>\n",
       "      <td>509</td>\n",
       "      <td>0</td>\n",
       "    </tr>\n",
       "    <tr>\n",
       "      <th>1852389</th>\n",
       "      <td>1296670</td>\n",
       "      <td>entertainment</td>\n",
       "      <td>15.56</td>\n",
       "      <td>M</td>\n",
       "      <td>258</td>\n",
       "      <td>0</td>\n",
       "    </tr>\n",
       "    <tr>\n",
       "      <th>1852390</th>\n",
       "      <td>1296671</td>\n",
       "      <td>food_dining</td>\n",
       "      <td>51.70</td>\n",
       "      <td>M</td>\n",
       "      <td>100</td>\n",
       "      <td>0</td>\n",
       "    </tr>\n",
       "    <tr>\n",
       "      <th>1852391</th>\n",
       "      <td>1296672</td>\n",
       "      <td>food_dining</td>\n",
       "      <td>105.93</td>\n",
       "      <td>M</td>\n",
       "      <td>899</td>\n",
       "      <td>0</td>\n",
       "    </tr>\n",
       "    <tr>\n",
       "      <th>1852392</th>\n",
       "      <td>1296673</td>\n",
       "      <td>food_dining</td>\n",
       "      <td>74.90</td>\n",
       "      <td>M</td>\n",
       "      <td>1126</td>\n",
       "      <td>0</td>\n",
       "    </tr>\n",
       "    <tr>\n",
       "      <th>1852393</th>\n",
       "      <td>1296674</td>\n",
       "      <td>food_dining</td>\n",
       "      <td>4.30</td>\n",
       "      <td>M</td>\n",
       "      <td>218</td>\n",
       "      <td>0</td>\n",
       "    </tr>\n",
       "  </tbody>\n",
       "</table>\n",
       "</div>"
      ],
      "text/plain": [
       "         Unnamed: 0        category     amt gender  city_pop  is_fraud\n",
       "1852374     1296655     food_dining   78.40      F       263         0\n",
       "1852375     1296656        misc_pos    5.48      M    687276         0\n",
       "1852376     1296657        misc_net  264.22      F       217         0\n",
       "1852377     1296658     food_dining   12.66      M    128715         0\n",
       "1852378     1296659    shopping_pos    9.72      F      1523         0\n",
       "1852379     1296660       kids_pets   49.93      M       229         0\n",
       "1852380     1296661            home   77.83      M      1770         0\n",
       "1852381     1296662   personal_care  157.69      F      4575         0\n",
       "1852382     1296663            home   84.10      F      6703         0\n",
       "1852383     1296664   entertainment   69.38      F      5895         0\n",
       "1852384     1296665            home   72.17      M        95         0\n",
       "1852385     1296666  health_fitness    7.30      F      2135         0\n",
       "1852386     1296667          travel   19.71      M     33804         0\n",
       "1852387     1296668       kids_pets  100.85      F     19685         0\n",
       "1852388     1296669        misc_pos   37.38      F       509         0\n",
       "1852389     1296670   entertainment   15.56      M       258         0\n",
       "1852390     1296671     food_dining   51.70      M       100         0\n",
       "1852391     1296672     food_dining  105.93      M       899         0\n",
       "1852392     1296673     food_dining   74.90      M      1126         0\n",
       "1852393     1296674     food_dining    4.30      M       218         0"
      ]
     },
     "execution_count": 5,
     "metadata": {},
     "output_type": "execute_result"
    }
   ],
   "source": [
    "df.tail(20)"
   ]
  },
  {
   "cell_type": "code",
   "execution_count": 6,
   "metadata": {},
   "outputs": [
    {
     "data": {
      "text/plain": [
       "category\n",
       "gas_transport     188029\n",
       "grocery_pos       176191\n",
       "home              175460\n",
       "shopping_pos      166463\n",
       "kids_pets         161727\n",
       "shopping_net      139322\n",
       "entertainment     134118\n",
       "food_dining       130729\n",
       "personal_care     130085\n",
       "health_fitness    122553\n",
       "misc_pos          114229\n",
       "misc_net           90654\n",
       "grocery_net        64878\n",
       "travel             57956\n",
       "Name: count, dtype: int64"
      ]
     },
     "execution_count": 6,
     "metadata": {},
     "output_type": "execute_result"
    }
   ],
   "source": [
    "df['category'].value_counts()"
   ]
  },
  {
   "cell_type": "code",
   "execution_count": 7,
   "metadata": {},
   "outputs": [],
   "source": [
    "#leaveoneout to encode\n",
    "from category_encoders import LeaveOneOutEncoder\n",
    "encoder = LeaveOneOutEncoder(cols=['category'])\n",
    "df['category_encoded'] = encoder.fit_transform(df['category'], df['is_fraud'])"
   ]
  },
  {
   "cell_type": "code",
   "execution_count": 8,
   "metadata": {},
   "outputs": [],
   "source": [
    "#drop the original column\n",
    "df.drop('category', axis=1, inplace=True)"
   ]
  },
  {
   "cell_type": "code",
   "execution_count": 9,
   "metadata": {},
   "outputs": [
    {
     "data": {
      "text/plain": [
       "(1852394, 6)"
      ]
     },
     "execution_count": 9,
     "metadata": {},
     "output_type": "execute_result"
    }
   ],
   "source": [
    "df.shape"
   ]
  },
  {
   "cell_type": "code",
   "execution_count": 10,
   "metadata": {},
   "outputs": [
    {
     "data": {
      "image/png": "[encoded data removed]",
      "text/plain": [
       "<Figure size 1200x1200 with 6 Axes>"
      ]
     },
     "metadata": {},
     "output_type": "display_data"
    }
   ],
   "source": [
    "#hist of all columns\n",
    "df.hist(figsize=(12,12))\n",
    "plt.show()\n",
    "\n",
    "\n",
    "#correlation matrix\n",
    "\n",
    "\n",
    "\n",
    "#check for missing values"
   ]
  },
  {
   "cell_type": "code",
   "execution_count": 11,
   "metadata": {},
   "outputs": [],
   "source": [
    "#remove missing values\n",
    "df.dropna(inplace=True)\n",
    "#remove duplicates\n",
    "df.drop_duplicates(inplace=True)"
   ]
  },
  {
   "cell_type": "code",
   "execution_count": 12,
   "metadata": {},
   "outputs": [
    {
     "data": {
      "image/png": "[encoded data removed]",
      "text/plain": [
       "<Figure size 1200x600 with 1 Axes>"
      ]
     },
     "metadata": {},
     "output_type": "display_data"
    }
   ],
   "source": [
    "#see outliers\n",
    "df.boxplot(figsize=(12,6))\n",
    "plt.show()\n"
   ]
  },
  {
   "cell_type": "code",
   "execution_count": 13,
   "metadata": {},
   "outputs": [
    {
     "data": {
      "text/plain": [
       "Index(['Unnamed: 0', 'amt', 'gender', 'city_pop', 'is_fraud',\n",
       "       'category_encoded'],\n",
       "      dtype='object')"
      ]
     },
     "execution_count": 13,
     "metadata": {},
     "output_type": "execute_result"
    }
   ],
   "source": [
    "df.columns\n",
    "\n"
   ]
  },
  {
   "cell_type": "code",
   "execution_count": 14,
   "metadata": {},
   "outputs": [],
   "source": [
    "#robust scaler \n",
    "from sklearn.preprocessing import RobustScaler\n",
    "scaler = RobustScaler()\n",
    "df['amt']=scaler.fit_transform(df[['amt']])\n",
    "\n"
   ]
  },
  {
   "cell_type": "code",
   "execution_count": 15,
   "metadata": {},
   "outputs": [
    {
     "data": {
      "text/plain": [
       "is_fraud\n",
       "0    1842743\n",
       "1       9651\n",
       "Name: count, dtype: int64"
      ]
     },
     "execution_count": 15,
     "metadata": {},
     "output_type": "execute_result"
    }
   ],
   "source": [
    "#encode target using label encoder\n",
    "from sklearn.preprocessing import LabelEncoder\n",
    "encoder = LabelEncoder()\n",
    "df['is_fraud'] = encoder.fit_transform(df['is_fraud'])\n",
    "\n",
    "df['is_fraud'].value_counts()\n"
   ]
  },
  {
   "cell_type": "code",
   "execution_count": 17,
   "metadata": {},
   "outputs": [
    {
     "data": {
      "text/html": [
       "<div>\n",
       "<style scoped>\n",
       "    .dataframe tbody tr th:only-of-type {\n",
       "        vertical-align: middle;\n",
       "    }\n",
       "\n",
       "    .dataframe tbody tr th {\n",
       "        vertical-align: top;\n",
       "    }\n",
       "\n",
       "    .dataframe thead th {\n",
       "        text-align: right;\n",
       "    }\n",
       "</style>\n",
       "<table border=\"1\" class=\"dataframe\">\n",
       "  <thead>\n",
       "    <tr style=\"text-align: right;\">\n",
       "      <th></th>\n",
       "      <th>Unnamed: 0</th>\n",
       "      <th>amt</th>\n",
       "      <th>city_pop</th>\n",
       "      <th>is_fraud</th>\n",
       "      <th>category_encoded</th>\n",
       "      <th>gender_F</th>\n",
       "      <th>gender_M</th>\n",
       "    </tr>\n",
       "  </thead>\n",
       "  <tbody>\n",
       "    <tr>\n",
       "      <th>0</th>\n",
       "      <td>0</td>\n",
       "      <td>-0.606997</td>\n",
       "      <td>333497</td>\n",
       "      <td>0</td>\n",
       "      <td>0.002229</td>\n",
       "      <td>False</td>\n",
       "      <td>True</td>\n",
       "    </tr>\n",
       "    <tr>\n",
       "      <th>1</th>\n",
       "      <td>1</td>\n",
       "      <td>-0.239722</td>\n",
       "      <td>302</td>\n",
       "      <td>0</td>\n",
       "      <td>0.002229</td>\n",
       "      <td>True</td>\n",
       "      <td>False</td>\n",
       "    </tr>\n",
       "    <tr>\n",
       "      <th>2</th>\n",
       "      <td>2</td>\n",
       "      <td>-0.083991</td>\n",
       "      <td>34496</td>\n",
       "      <td>0</td>\n",
       "      <td>0.001510</td>\n",
       "      <td>True</td>\n",
       "      <td>False</td>\n",
       "    </tr>\n",
       "    <tr>\n",
       "      <th>3</th>\n",
       "      <td>3</td>\n",
       "      <td>0.171522</td>\n",
       "      <td>54767</td>\n",
       "      <td>0</td>\n",
       "      <td>0.002819</td>\n",
       "      <td>False</td>\n",
       "      <td>True</td>\n",
       "    </tr>\n",
       "    <tr>\n",
       "      <th>4</th>\n",
       "      <td>4</td>\n",
       "      <td>-0.602505</td>\n",
       "      <td>1126</td>\n",
       "      <td>0</td>\n",
       "      <td>0.002692</td>\n",
       "      <td>False</td>\n",
       "      <td>True</td>\n",
       "    </tr>\n",
       "  </tbody>\n",
       "</table>\n",
       "</div>"
      ],
      "text/plain": [
       "   Unnamed: 0       amt  city_pop  is_fraud  category_encoded  gender_F  \\\n",
       "0           0 -0.606997    333497         0          0.002229     False   \n",
       "1           1 -0.239722       302         0          0.002229      True   \n",
       "2           2 -0.083991     34496         0          0.001510      True   \n",
       "3           3  0.171522     54767         0          0.002819     False   \n",
       "4           4 -0.602505      1126         0          0.002692     False   \n",
       "\n",
       "   gender_M  \n",
       "0      True  \n",
       "1     False  \n",
       "2     False  \n",
       "3      True  \n",
       "4      True  "
      ]
     },
     "execution_count": 17,
     "metadata": {},
     "output_type": "execute_result"
    }
   ],
   "source": [
    "#encode Gender using one hot encoding\n",
    "df = pd.get_dummies(df, columns=['gender'])\n",
    "\n",
    "df.head()"
   ]
  },
  {
   "cell_type": "code",
   "execution_count": 18,
   "metadata": {},
   "outputs": [
    {
     "data": {
      "text/plain": [
       "Unnamed: 0          0\n",
       "amt                 0\n",
       "city_pop            0\n",
       "is_fraud            0\n",
       "category_encoded    0\n",
       "gender_F            0\n",
       "gender_M            0\n",
       "dtype: int64"
      ]
     },
     "execution_count": 18,
     "metadata": {},
     "output_type": "execute_result"
    }
   ],
   "source": [
    "df.isnull().sum()"
   ]
  },
  {
   "cell_type": "code",
   "execution_count": 19,
   "metadata": {},
   "outputs": [],
   "source": [
    "#models training and evaluation\n",
    "from sklearn.model_selection import train_test_split\n",
    "from sklearn.metrics import accuracy_score, classification_report, confusion_matrix\n",
    "from sklearn.ensemble import RandomForestClassifier\n",
    "from sklearn.linear_model import LogisticRegression\n",
    "from sklearn.svm import SVC\n",
    "from sklearn.tree import DecisionTreeClassifier\n",
    "from sklearn.neighbors import KNeighborsClassifier\n",
    "from sklearn.naive_bayes import GaussianNB\n",
    "from sklearn.neural_network import MLPClassifier\n",
    "from sklearn.ensemble import GradientBoostingClassifier\n",
    "from sklearn.ensemble import AdaBoostClassifier\n",
    "from sklearn.ensemble import ExtraTreesClassifier\n",
    "from sklearn.ensemble import BaggingClassifier\n",
    "from sklearn.ensemble import VotingClassifier\n",
    "from sklearn.model_selection import cross_val_score\n",
    "from sklearn.model_selection import StratifiedKFold\n",
    "from sklearn.model_selection import GridSearchCV\n",
    "\n",
    "#split the data\n",
    "X = df.drop('is_fraud', axis=1)\n",
    "y = df['is_fraud']\n",
    "X_train, X_test, y_train, y_test = train_test_split(X, y, test_size=0.2, random_state=42)\n",
    "\n",
    "#models\n",
    "models = []\n",
    "models.append(('LR', LogisticRegression()))\n",
    "models.append(('RF', RandomForestClassifier()))\n",
    "models.append(('SVC', SVC()))\n",
    "models.append(('KNN', KNeighborsClassifier()))\n",
    "models.append(('DT', DecisionTreeClassifier()))\n",
    "models.append(('NB', GaussianNB()))\n",
    "models.append(('MLP', MLPClassifier()))\n",
    "models.append(('GB', GradientBoostingClassifier()))\n",
    "models.append(('AB', AdaBoostClassifier()))\n",
    "models.append(('ET', ExtraTreesClassifier()))\n",
    "models.append(('BC', BaggingClassifier()))\n",
    "models.append(('VC', VotingClassifier(estimators=[('RF', RandomForestClassifier()), ('GB', GradientBoostingClassifier()), ('MLP', MLPClassifier())])))\n",
    "\n"
   ]
  },
  {
   "cell_type": "code",
   "execution_count": 21,
   "metadata": {},
   "outputs": [
    {
     "name": "stdout",
     "output_type": "stream",
     "text": [
      "LR\n",
      "Accuracy:  0.9944126387730479\n",
      "Confusion Matrix: \n",
      " [[368409    173]\n",
      " [  1897      0]]\n",
      "Classification Report: \n",
      "               precision    recall  f1-score   support\n",
      "\n",
      "           0       0.99      1.00      1.00    368582\n",
      "           1       0.00      0.00      0.00      1897\n",
      "\n",
      "    accuracy                           0.99    370479\n",
      "   macro avg       0.50      0.50      0.50    370479\n",
      "weighted avg       0.99      0.99      0.99    370479\n",
      "\n",
      "\n",
      "\n",
      "\n",
      "RF\n",
      "Accuracy:  0.9997300791677801\n",
      "Confusion Matrix: \n",
      " [[368581      1]\n",
      " [    99   1798]]\n",
      "Classification Report: \n",
      "               precision    recall  f1-score   support\n",
      "\n",
      "           0       1.00      1.00      1.00    368582\n",
      "           1       1.00      0.95      0.97      1897\n",
      "\n",
      "    accuracy                           1.00    370479\n",
      "   macro avg       1.00      0.97      0.99    370479\n",
      "weighted avg       1.00      1.00      1.00    370479\n",
      "\n",
      "\n",
      "\n",
      "\n"
     ]
    }
   ],
   "source": [
    "#evaluate model using cross validation, accuracy, confusion matrix and classification report\n",
    "for name, model in models:\n",
    "    model.fit(X_train, y_train)\n",
    "    y_pred = model.predict(X_test)\n",
    "    print(name)\n",
    "    print('Accuracy: ', accuracy_score(y_test, y_pred))\n",
    "    print('Confusion Matrix: \\n', confusion_matrix(y_test, y_pred))\n",
    "    print('Classification Report: \\n', classification_report(y_test, y_pred))\n",
    "    print('\\n\\n')\n",
    "\n",
    "    "
   ]
  },
  {
   "cell_type": "code",
   "execution_count": null,
   "metadata": {},
   "outputs": [],
   "source": []
  }
 ],
 "metadata": {
  "kernelspec": {
   "display_name": "py_ML",
   "language": "python",
   "name": "python3"
  },
  "language_info": {
   "codemirror_mode": {
    "name": "ipython",
    "version": 3
   },
   "file_extension": ".py",
   "mimetype": "text/x-python",
   "name": "python",
   "nbconvert_exporter": "python",
   "pygments_lexer": "ipython3",
   "version": "3.12.2"
  }
 },
 "nbformat": 4,
 "nbformat_minor": 2
}
